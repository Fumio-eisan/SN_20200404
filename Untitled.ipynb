{
 "cells": [
  {
   "cell_type": "code",
   "execution_count": 1,
   "metadata": {},
   "outputs": [],
   "source": [
    "import numpy as np"
   ]
  },
  {
   "cell_type": "code",
   "execution_count": 2,
   "metadata": {},
   "outputs": [
    {
     "name": "stdout",
     "output_type": "stream",
     "text": [
      "[[-0.50566621 -0.86272921]\n",
      " [-0.86272921  0.50566621]]\n",
      "[10.73807223  0.8329495 ]\n",
      "[[-0.28812004 -0.41555404 -0.54298803 -0.67042202]\n",
      " [ 0.7854851   0.35681206 -0.07186099 -0.50053403]\n",
      " [-0.40008743  0.25463292  0.69099646 -0.54554195]\n",
      " [-0.37407225  0.79697056 -0.47172438  0.04882607]]\n"
     ]
    }
   ],
   "source": [
    "data = np.array([[1,2,3,4],[3,4,5,6]])\n",
    "U, S, V = np.linalg.svd(data)\n",
    "print(U)\n",
    "print(S)\n",
    "print(V)"
   ]
  },
  {
   "cell_type": "code",
   "execution_count": 3,
   "metadata": {},
   "outputs": [
    {
     "name": "stdout",
     "output_type": "stream",
     "text": [
      "[[-0.3863177  -0.92236578]\n",
      " [-0.92236578  0.3863177 ]]\n",
      "[9.508032   0.77286964]\n",
      "[[-0.42866713 -0.56630692 -0.7039467 ]\n",
      " [ 0.80596391  0.11238241 -0.58119908]\n",
      " [ 0.40824829 -0.81649658  0.40824829]]\n"
     ]
    }
   ],
   "source": [
    "data1 = np.array([[1,2,3],[4,5,6]])\n",
    "U, S, V = np.linalg.svd(data1)\n",
    "print(U)\n",
    "print(S)\n",
    "print(V)"
   ]
  },
  {
   "cell_type": "code",
   "execution_count": 4,
   "metadata": {},
   "outputs": [],
   "source": [
    "import matplotlib.pyplot as plt\n",
    "\n",
    "def l2_normalize(x, eps=1e-12):\n",
    "    return x / (np.sum(x ** 2) ** 0.5 + eps)"
   ]
  },
  {
   "cell_type": "code",
   "execution_count": 5,
   "metadata": {},
   "outputs": [],
   "source": [
    "results = []\n",
    "\n",
    "for p in range(1, 6):\n",
    "    U = np.random.randn(1, data.shape[1])\n",
    "    for i in range(p):\n",
    "        V = l2_normalize(np.dot(U, data.T))\n",
    "        U = l2_normalize(np.dot(V, data))\n",
    "    sigma = np.dot(np.dot(V, data), U.T)\n",
    "    results.append(sigma.flatten())\n"
   ]
  },
  {
   "cell_type": "code",
   "execution_count": 10,
   "metadata": {},
   "outputs": [
    {
     "data": {
      "text/plain": [
       "[array([10.73346339]),\n",
       " array([10.73807158]),\n",
       " array([10.73807223]),\n",
       " array([10.73807223]),\n",
       " array([10.73807223])]"
      ]
     },
     "execution_count": 10,
     "metadata": {},
     "output_type": "execute_result"
    }
   ],
   "source": [
    "results"
   ]
  },
  {
   "cell_type": "code",
   "execution_count": 16,
   "metadata": {},
   "outputs": [
    {
     "data": {
      "text/plain": [
       "(10.0, 11.0)"
      ]
     },
     "execution_count": 16,
     "metadata": {},
     "output_type": "execute_result"
    },
    {
     "data": {
      "image/png": "[encoded data removed]",
      "text/plain": [
       "<Figure size 432x288 with 1 Axes>"
      ]
     },
     "metadata": {
      "needs_background": "light"
     },
     "output_type": "display_data"
    }
   ],
   "source": [
    "plt.plot(np.arange(1, 6), results)\n",
    "plt.ylim([10, 11])"
   ]
  },
  {
   "cell_type": "code",
   "execution_count": null,
   "metadata": {},
   "outputs": [],
   "source": []
  }
 ],
 "metadata": {
  "kernelspec": {
   "display_name": "Python 3.7.7 64-bit ('cossingan': conda)",
   "language": "python",
   "name": "python37764bitcossinganconda033c0c4d9752496f87601b08810c182a"
  },
  "language_info": {
   "codemirror_mode": {
    "name": "ipython",
    "version": 3
   },
   "file_extension": ".py",
   "mimetype": "text/x-python",
   "name": "python",
   "nbconvert_exporter": "python",
   "pygments_lexer": "ipython3",
   "version": "3.7.7"
  }
 },
 "nbformat": 4,
 "nbformat_minor": 4
}
